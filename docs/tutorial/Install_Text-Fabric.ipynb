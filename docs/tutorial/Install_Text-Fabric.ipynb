{
 "cells": [
  {
   "cell_type": "markdown",
   "id": "bec25f1a",
   "metadata": {},
   "source": [
    "# Install Text-Fabric on your Python environment (generic)"
   ]
  },
  {
   "cell_type": "markdown",
   "id": "fa7f85d5",
   "metadata": {
    "tags": []
   },
   "source": [
    "## Table of content <a class=\"anchor\" id=\"TOC\"></a>\n",
    "* <a href=\"#bullet1\">1 - Introduction</a>\n",
    "* <a href=\"#bullet2\">2 - Install Text-Fabric in Python</a>\n",
    "* <a href=\"#bullet3\">3 - Remarks</a>\n",
    "* <a href=\"#bullet4\">4 - Version</a>"
   ]
  },
  {
   "cell_type": "markdown",
   "id": "c2c48614-5571-47f8-b70c-28f1ea58f97b",
   "metadata": {
    "tags": []
   },
   "source": [
    "# 1 - Introduction <a class=\"anchor\" id=\"bullet1\"></a>\n",
    "\n",
    "Before you can use Text-Fabric, you need to install it in your environment. The instructions in this section need to be executed only once. After installation, the Text-Fabric package will be available for loading into your system's memory.\n",
    "\n",
    "Since Text-Fabric is a Python package, it requires Python to be installed on your system. Make sure you have at least [Python 3.7.0](https://annotation.github.io/text-fabric/tf/about/install.html). If you do not have Python installed yet, you can use a package manager like [Anaconda](https://www.anaconda.com/products/distribution), which provides a Jupyter Notebook environment along with the Python setup. For more details you can refer to [this Jupyter Notebook](https://nbviewer.org/github/CenterBLC/N1904/tree/main/docs/tutorial/Install_Python.ipynb) for installation instructions."
   ]
  },
  {
   "cell_type": "markdown",
   "id": "d5a6e05a",
   "metadata": {},
   "source": [
    "# 2 - Install Text-Fabric in Python<a class=\"anchor\" id=\"bullet2\"></a>\n",
    "\n",
    "Installing the Text-Fabric package in a Python environment uses [pip](https://pip.pypa.io/en/stable/getting-started/), the Python package installer. To install Text-Fabric, you can use the following command in a Python shell:\n",
    "\n",
    "```sh\n",
    "pip install text-fabric\n",
    "```\n",
    "\n",
    "If you are issuing this command in any cell inside Jupyter Notebook, you need to add an exclamation mark in front to signal that the command should be executed in the shell:\n",
    "\n",
    "```python\n",
    "!pip install text-fabric\n",
    "```\n",
    "\n",
    "Note that in the Notebook viewer the exclamation mark is enclosed in a red box which helps users to see that this line is a shell command and not standard Python code."
   ]
  },
  {
   "cell_type": "markdown",
   "id": "c8d6c69c-dd03-4225-b39b-7f70700a8bd2",
   "metadata": {},
   "source": [
    "# 3 - Remarks<a class=\"anchor\" id=\"bullet3\"></a>\n",
    "##### [back to TOC](#TOC)\n",
    "\n",
    "Note that if using the `pip` command gives an error, you can try using pip3 instead. This issue may arise because both Python 2 and Python 3 are installed on your system, and pip may be associated with Python 2. In such cases, the package manager for Python 3 is often installed as `pip3`.\n",
    "\n",
    "See also:\n",
    "* [Module tf.about.install](https://annotation.github.io/text-fabric/tf/about/install.html): additional install information\n",
    "\n",
    "\n"
   ]
  },
  {
   "cell_type": "markdown",
   "id": "9ad96d42-4b2a-4edf-b6d7-d2e93ede5567",
   "metadata": {},
   "source": [
    "# 4 - Version<a class=\"anchor\" id=\"bullet4\"></a>\n",
    "##### [back to TOC](#TOC)\n",
    "\n",
    "<pre>\n",
    "Version: 1.0\n",
    "Date: 8 August 2024\n",
    "</pre>"
   ]
  },
  {
   "cell_type": "code",
   "execution_count": null,
   "id": "4ec96c8b-59f3-4522-b4a0-f776774f5f3e",
   "metadata": {},
   "outputs": [],
   "source": []
  }
 ],
 "metadata": {
  "kernelspec": {
   "display_name": "Python 3 (ipykernel)",
   "language": "python",
   "name": "python3"
  },
  "language_info": {
   "codemirror_mode": {
    "name": "ipython",
    "version": 3
   },
   "file_extension": ".py",
   "mimetype": "text/x-python",
   "name": "python",
   "nbconvert_exporter": "python",
   "pygments_lexer": "ipython3",
   "version": "3.11.5"
  }
 },
 "nbformat": 4,
 "nbformat_minor": 5
}

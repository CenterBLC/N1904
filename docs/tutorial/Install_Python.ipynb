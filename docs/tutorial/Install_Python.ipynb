{
 "cells": [
  {
   "cell_type": "markdown",
   "id": "bec25f1a",
   "metadata": {
    "editable": false,
    "slideshow": {
     "slide_type": ""
    },
    "tags": []
   },
   "source": [
    "# Install Python using Anaconda Navigator (generic)"
   ]
  },
  {
   "cell_type": "markdown",
   "id": "fa7f85d5",
   "metadata": {
    "editable": true,
    "slideshow": {
     "slide_type": ""
    },
    "tags": []
   },
   "source": [
    "## Table of Content (ToC)<a class=\"anchor\" id=\"TOC\"></a>\n",
    "* <a href=\"#bullet1\">1 - Introduction</a>\n",
    "* <a href=\"#bullet2\">2 - Install the Python environment</a>\n",
    "    * <a href=\"#bullet2x1\">2.1 -  Download and run the Anaconda Navigator installer</a>\n",
    "    * <a href=\"#bullet2x2\">2.2 -  Install Jupiter Notebook in Anaconda Navigator</a>\n",
    "* <a href=\"#bullet3\">3 - Remarks</a>\n",
    "* <a href=\"#bullet4\">4 - Notebook version</a>"
   ]
  },
  {
   "cell_type": "markdown",
   "id": "2f957c71-71fa-4718-9670-411b3a7ea3aa",
   "metadata": {
    "editable": true,
    "slideshow": {
     "slide_type": ""
    },
    "tags": []
   },
   "source": [
    "# 1 - Introduction\n",
    "<a class=\"anchor\" id=\"bullet1\"></a>\n",
    "##### [Back to ToC](#TOC)\n",
    "\n",
    "This Notebook provides a pictorial guidance for installing Python on your system. There are many methods to install Python (like directly from [python.org](https://www.python.org)), each with their benefits and drawbacks. This notebook uses [Anaconda Navigator](https://www.anaconda.com/products/navigator) to provide a Python environment within Jupyter Notebooks. Anaconda Navigator is chosen because it is a convenient and intuitive tool for managing Python installations and packages with a large footprint in the field of Digital Humanities.\n",
    "\n",
    "Text-Fabric requires at least [Python version 3.7.0](https://annotation.github.io/text-fabric/tf/about/install.html), so any Anaconda Navigator from version [5.3.0 (Sept 28, 2018)](https://docs.anaconda.com/free/anaconda/release-notes/#anaconda-5-3-0-sept-28-2018) upwards, would suffice."
   ]
  },
  {
   "cell_type": "markdown",
   "id": "bf3f556a-a84d-423d-833d-5a1f39dfd733",
   "metadata": {
    "editable": true,
    "slideshow": {
     "slide_type": ""
    },
    "tags": []
   },
   "source": [
    "# 2 - Install the Python environment\n",
    "<a class=\"anchor\" id=\"bullet2\"></a>\n",
    "##### [Back to TOC](#TOC)\n",
    "\n",
    "The following will show how Anaconda Navigator can be used to provide a Python environment in a Jupyter Notebook environment."
   ]
  },
  {
   "cell_type": "markdown",
   "id": "ee7b56ee-32c9-4f62-8aa8-300f26a6cadf",
   "metadata": {
    "editable": true,
    "slideshow": {
     "slide_type": ""
    },
    "tags": []
   },
   "source": [
    "## 2.1 - Download and run the Anaconda Navigator installer\n",
    "<a class=\"anchor\" id=\"bullet2x1\"></a>\n",
    "\n",
    "Go to the [Anaconda distribution overview page](https://www.anaconda.com/products/distribution).\n",
    "\n",
    "Locate the [Anaconda Navigator]()\n",
    "\n",
    "<img src=\"images/Anaconda_Navigator.jpg\">"
   ]
  },
  {
   "cell_type": "markdown",
   "id": "8ff5ebeb-ffea-4176-80d7-0fca04c6827e",
   "metadata": {
    "editable": true,
    "slideshow": {
     "slide_type": ""
    },
    "tags": []
   },
   "source": [
    "Before you can download the package you need to log in (or first create an account)."
   ]
  },
  {
   "cell_type": "markdown",
   "id": "0a635cae-3407-48f0-bf4c-474f7d61c91f",
   "metadata": {},
   "source": [
    "Select the proper download for your machine and run the installer:\n",
    "\n",
    "<img src=\"images/Anaconda_Download.jpg\">"
   ]
  },
  {
   "cell_type": "markdown",
   "id": "6d47f0c5-5402-4017-a5da-c5a14b693805",
   "metadata": {},
   "source": [
    "## 2.2 - Install Jupiter Notebook in Anaconda Navigator<a class=\"anchor\" id=\"bullet2x2\"></a>\n",
    "\n",
    "Open the Anaconda Navigator and locate the pannel showing 'Jupyter Notebook', click on the gear symbol and select the option 'install application' or just click on the green 'install' button. \n",
    "\n",
    "<img src=\"images/Anaconda_install_Jupyter.jpg\">\n",
    "\n",
    "After installation the green 'install' button will be replaced with a blue 'Launch' button.\n",
    "\n",
    "Clicking on the blue 'Launch' button will open a Jupyter Notebook in a browser window. The Jupyter Notebook is running as a webserver on your local machine.\n",
    "\n",
    "<img src=\"images/Jupyter_Notebook.jpg\">"
   ]
  },
  {
   "cell_type": "markdown",
   "id": "e5f0d9db-1b44-49b9-8aeb-5245b42e8cfc",
   "metadata": {},
   "source": [
    "# 3 - Remarks<a class=\"anchor\" id=\"bullet3\"></a>\n",
    "##### [Back to ToC](#TOC)\n",
    "\n",
    "One of the benefits of using Anaconda Navigator is the ability to easily define and manage separate environments with different sets of packages and package versions. This feature is especially useful when applications depend on various, potentially conflicting, packages. The following example configuration demonstrates how to handle such dependencies effectively.\n",
    "\n",
    "<img src=\"images/Anaconda_Environments.jpg\">"
   ]
  },
  {
   "cell_type": "markdown",
   "id": "6bf3450a-0e36-4d5c-b877-378204b055e4",
   "metadata": {},
   "source": [
    "# 4 - Notebook version<a class=\"anchor\" id=\"bullet4\"></a>\n",
    "##### [Back to ToC](#TOC)\n",
    "\n",
    "<div style=\"float: left;\">\n",
    "  <table>\n",
    "    <tr>\n",
    "      <td><strong>Author</strong></td>\n",
    "      <td>Tony Jurg</td>\n",
    "    </tr>\n",
    "    <tr>\n",
    "      <td><strong>Version</strong></td>\n",
    "      <td>1.1</td>\n",
    "    </tr>\n",
    "    <tr>\n",
    "      <td><strong>Date</strong></td>\n",
    "      <td>9 October 2024</td>\n",
    "    </tr>\n",
    "  </table>\n",
    "</div>"
   ]
  }
 ],
 "metadata": {
  "kernelspec": {
   "display_name": "Python 3 (ipykernel)",
   "language": "python",
   "name": "python3"
  },
  "language_info": {
   "codemirror_mode": {
    "name": "ipython",
    "version": 3
   },
   "file_extension": ".py",
   "mimetype": "text/x-python",
   "name": "python",
   "nbconvert_exporter": "python",
   "pygments_lexer": "ipython3",
   "version": "3.12.7"
  }
 },
 "nbformat": 4,
 "nbformat_minor": 5
}

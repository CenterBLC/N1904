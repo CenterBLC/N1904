{
 "cells": [
  {
   "cell_type": "markdown",
   "id": "15535787-de37-47fe-9231-d20ba3e8ce45",
   "metadata": {},
   "source": [
    "# TUTORIAL"
   ]
  },
  {
   "cell_type": "markdown",
   "id": "f62541d9-3e6a-445c-b1e9-a7eae2e8eb5c",
   "metadata": {
    "tags": []
   },
   "source": [
    "# Nestle 1904 GNT - Tutorial\n",
    "\n",
    "This directory contains several Jupyter notebooks with examples showing how to use the [Nestle 1904 Text-Fabric dataset](https://centerblc.github.io/N1904/). Since Text-Fabric is implemented as a Python package, it can be employed in any stand-alone Python script. However, it is commonly utilized within a [Jupyter Notebook](https://jupyter.org) — an interactive web-based computational environment that enables users to create and share documents with live code, visualizations, and text. This allows for the inclusion of explanatory notes alongside queries and results obtained from Text-Fabric. The following notebooks are grouped into specific focus areas and topics, albeit somewhat arbitrarily.\n",
    "\n",
    "\n",
    "## Setting up the environment\n",
    "\n",
    "* [Install Python](https://nbviewer.org/github/CenterBLC/N1904/tree/main/docs/tutorial/Install_Python.ipynb): Setting up a Python environment in Jupyter Notebook using Anaconda\n",
    "* [Install TF on Python](https://nbviewer.org/github/CenterBLC/N1904/tree/main/docs/tutorial/Install_Text-Fabric.ipynb): Making the TF package available for loading in Python\n",
    "* [Update the TF package](https://nbviewer.org/github/CenterBLC/N1904/tree/main/docs/tutorial/Update_Text-Fabric.ipynb): Managing the Text-Fabric package versions\n",
    "* [Increase GitHub rate limit](https://nbviewer.org/github/CenterBLC/N1904/tree/main/docs/tutorial/Increase_GitHub_rate_limit.ipynb): use of personal access token (usualy not required)\n",
    "\n",
    "## Basic/general\n",
    "\n",
    "* [Load Text-Fabric](https://nbviewer.org/github/CenterBLC/N1904/tree/main/docs/tutorial/Load_the_Text-Fabric_dataset.ipynb): basic usage example of function`use()`.\n",
    "\n",
    "The Jupyter notebooks can easily be viewed in [Jupyter nbviewer](https://nbviewer.org/github/CenterBLC/N1904/tree/main/docs/tutorial/).\n",
    "\n"
   ]
  }
 ],
 "metadata": {
  "kernelspec": {
   "display_name": "Python 3 (ipykernel)",
   "language": "python",
   "name": "python3"
  },
  "language_info": {
   "codemirror_mode": {
    "name": "ipython",
    "version": 3
   },
   "file_extension": ".py",
   "mimetype": "text/x-python",
   "name": "python",
   "nbconvert_exporter": "python",
   "pygments_lexer": "ipython3",
   "version": "3.11.5"
  }
 },
 "nbformat": 4,
 "nbformat_minor": 5
}

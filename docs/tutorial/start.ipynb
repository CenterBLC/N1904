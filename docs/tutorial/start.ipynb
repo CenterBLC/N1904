{
 "cells": [
  {
   "cell_type": "markdown",
   "id": "15535787-de37-47fe-9231-d20ba3e8ce45",
   "metadata": {},
   "source": [
    "# TUTORIAL"
   ]
  },
  {
   "cell_type": "markdown",
   "id": "f62541d9-3e6a-445c-b1e9-a7eae2e8eb5c",
   "metadata": {
    "tags": []
   },
   "source": [
    "## Nestle 1904 GNT - Tutorial\n",
    "\n",
    "This directory contains several Jupyter notebooks with examples showing how to use the [Nestle 1904 Text-Fabric dataset](https://centerblc.github.io/N1904/). Since Text-Fabric is implemented as a Python package, it can be employed in any stand-alone Python script. However, it is commonly utilized within a [Jupyter Notebook](https://jupyter.org) — an interactive web-based computational environment that enables users to create and share documents with live code, visualizations, and text. This allows for the inclusion of explanatory notes alongside queries and results obtained from Text-Fabric. The following notebooks are grouped into specific focus areas and topics, albeit somewhat arbitrarily.\n",
    "\n",
    "### Setting up the environment\n",
    "\n",
    "<ul>\n",
    "    <li><a href=\"https://nbviewer.org/github/CenterBLC/N1904/tree/main/docs/tutorial/Install_Python.ipynb\" target=\"_blank\">Install Python</a>: Setting up a Python environment in Jupyter Notebook using Anaconda.</li>\n",
    "    <li><a href=\"https://nbviewer.org/github/CenterBLC/N1904/tree/main/docs/tutorial/Install_Text-Fabric.ipynb\" target=\"_blank\">Install TF on Python</a>: Making the TF package available for loading in Python.</li>\n",
    "    <li><a href=\"https://nbviewer.org/github/CenterBLC/N1904/tree/main/docs/tutorial/Update_Text-Fabric.ipynb\" target=\"_blank\">Update the TF package</a>: Managing the Text-Fabric package versions.</li>\n",
    "    <li><a href=\"https://nbviewer.org/github/CenterBLC/N1904/tree/main/docs/tutorial/Increase_GitHub_rate_limit.ipynb\" target=\"_blank\">Increase GitHub rate limit</a>: use of personal access token (usually not required).</li>\n",
    "</ul>\n",
    "\n",
    "### Basic/general\n",
    "\n",
    "<ul>\n",
    "    <li><a href=\"https://nbviewer.org/github/CenterBLC/N1904/tree/main/docs/tutorial/Load_the_Text-Fabric_dataset.ipynb\" target=\"_blank\">Load Text-Fabric</a>: basic usage example of function <code>use()</code>.</li>\n",
    "    <li><a href=\"https://nbviewer.org/github/CenterBLC/N1904/tree/main/docs/tutorial/various_text_formats.ipynb\" target=\"_blank\">Various text formats</a>: demonstration of the text formatting features.</li>\n",
    "</ul>\n",
    "\n",
    "### Advanced\n",
    "\n",
    "<ul>\n",
    "    <li><a href=\"https://nbviewer.org/github/CenterBLC/N1904/tree/main/docs/tutorial/hapax_legomena.ipynb\" target=\"_blank\">Hapax Legomena</a>: Grouping hapax legomena with their semantic classification.</li>\n",
    "    <li><a href=\"https://nbviewer.org/github/CenterBLC/N1904/tree/main/docs/tutorial/louw-nida.ipynb\" target=\"_blank\">Louw-Nida</a>: demonstration of the use of the Louw-Nida semantic classification feature.</li>\n",
    "    <li><a href=\"https://nbviewer.org/github/CenterBLC/N1904/tree/main/docs/tutorial/using_n-gram_in_text-fabric.ipynb\" target=\"_blank\">Using n-gram in Text-Fabric</a>: example of n-gram using this Text-Fabric dataset.</li>\n",
    "</ul>\n",
    "\n",
    "The Jupyter notebooks can easily be viewed in [Jupyter nbviewer](https://nbviewer.org/github/CenterBLC/N1904/tree/main/docs/tutorial/).\n",
    "\n"
   ]
  },
  {
   "cell_type": "code",
   "execution_count": null,
   "id": "56089978-2b24-4c72-893f-7b69b82a3eb9",
   "metadata": {},
   "outputs": [],
   "source": []
  }
 ],
 "metadata": {
  "kernelspec": {
   "display_name": "Python 3 (ipykernel)",
   "language": "python",
   "name": "python3"
  },
  "language_info": {
   "codemirror_mode": {
    "name": "ipython",
    "version": 3
   },
   "file_extension": ".py",
   "mimetype": "text/x-python",
   "name": "python",
   "nbconvert_exporter": "python",
   "pygments_lexer": "ipython3",
   "version": "3.12.7"
  }
 },
 "nbformat": 4,
 "nbformat_minor": 5
}
